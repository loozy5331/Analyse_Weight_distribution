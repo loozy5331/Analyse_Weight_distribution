{
 "cells": [
  {
   "cell_type": "code",
   "execution_count": 2,
   "metadata": {},
   "outputs": [],
   "source": [
    "import pandas as pd\n",
    "import matplotlib.pyplot as plt\n",
    "import numpy as np"
   ]
  },
  {
   "cell_type": "code",
   "execution_count": 3,
   "metadata": {},
   "outputs": [
    {
     "data": {
      "text/html": [
       "<div>\n",
       "<style scoped>\n",
       "    .dataframe tbody tr th:only-of-type {\n",
       "        vertical-align: middle;\n",
       "    }\n",
       "\n",
       "    .dataframe tbody tr th {\n",
       "        vertical-align: top;\n",
       "    }\n",
       "\n",
       "    .dataframe thead tr th {\n",
       "        text-align: left;\n",
       "    }\n",
       "\n",
       "    .dataframe thead tr:last-of-type th {\n",
       "        text-align: right;\n",
       "    }\n",
       "</style>\n",
       "<table border=\"1\" class=\"dataframe\">\n",
       "  <thead>\n",
       "    <tr>\n",
       "      <th></th>\n",
       "      <th colspan=\"3\" halign=\"left\">LCG(m)</th>\n",
       "      <th colspan=\"3\" halign=\"left\">TCG(m)</th>\n",
       "      <th>Weight(MT)</th>\n",
       "    </tr>\n",
       "    <tr>\n",
       "      <th></th>\n",
       "      <th>max</th>\n",
       "      <th>mean</th>\n",
       "      <th>min</th>\n",
       "      <th>max</th>\n",
       "      <th>mean</th>\n",
       "      <th>min</th>\n",
       "      <th>sum</th>\n",
       "    </tr>\n",
       "    <tr>\n",
       "      <th>Discipline</th>\n",
       "      <th></th>\n",
       "      <th></th>\n",
       "      <th></th>\n",
       "      <th></th>\n",
       "      <th></th>\n",
       "      <th></th>\n",
       "      <th></th>\n",
       "    </tr>\n",
       "  </thead>\n",
       "  <tbody>\n",
       "    <tr>\n",
       "      <th>A</th>\n",
       "      <td>248.00</td>\n",
       "      <td>238.450870</td>\n",
       "      <td>72.21</td>\n",
       "      <td>8.00</td>\n",
       "      <td>-1.851304</td>\n",
       "      <td>-16.00</td>\n",
       "      <td>361.704560</td>\n",
       "    </tr>\n",
       "    <tr>\n",
       "      <th>E</th>\n",
       "      <td>362.90</td>\n",
       "      <td>172.411321</td>\n",
       "      <td>77.44</td>\n",
       "      <td>27.70</td>\n",
       "      <td>-1.336607</td>\n",
       "      <td>-27.70</td>\n",
       "      <td>635.924000</td>\n",
       "    </tr>\n",
       "    <tr>\n",
       "      <th>M</th>\n",
       "      <td>117.50</td>\n",
       "      <td>75.067507</td>\n",
       "      <td>-0.40</td>\n",
       "      <td>24.30</td>\n",
       "      <td>3.921397</td>\n",
       "      <td>-18.30</td>\n",
       "      <td>4137.841370</td>\n",
       "    </tr>\n",
       "    <tr>\n",
       "      <th>O</th>\n",
       "      <td>391.56</td>\n",
       "      <td>197.247416</td>\n",
       "      <td>-2.78</td>\n",
       "      <td>21.04</td>\n",
       "      <td>0.404779</td>\n",
       "      <td>-3.29</td>\n",
       "      <td>7306.589206</td>\n",
       "    </tr>\n",
       "    <tr>\n",
       "      <th>P</th>\n",
       "      <td>381.50</td>\n",
       "      <td>204.959878</td>\n",
       "      <td>72.70</td>\n",
       "      <td>27.00</td>\n",
       "      <td>0.060244</td>\n",
       "      <td>-26.75</td>\n",
       "      <td>730.841560</td>\n",
       "    </tr>\n",
       "  </tbody>\n",
       "</table>\n",
       "</div>"
      ],
      "text/plain": [
       "            LCG(m)                    TCG(m)                    Weight(MT)\n",
       "               max        mean    min    max      mean    min          sum\n",
       "Discipline                                                                \n",
       "A           248.00  238.450870  72.21   8.00 -1.851304 -16.00   361.704560\n",
       "E           362.90  172.411321  77.44  27.70 -1.336607 -27.70   635.924000\n",
       "M           117.50   75.067507  -0.40  24.30  3.921397 -18.30  4137.841370\n",
       "O           391.56  197.247416  -2.78  21.04  0.404779  -3.29  7306.589206\n",
       "P           381.50  204.959878  72.70  27.00  0.060244 -26.75   730.841560"
      ]
     },
     "execution_count": 3,
     "metadata": {},
     "output_type": "execute_result"
    }
   ],
   "source": [
    "#1. 데이터 파악\n",
    "data1 = pd.read_excel(\"종설 과제.xlsm\", sheet_name=\"1st\")\n",
    "data1 = data1[[\"Discipline\",\"Weight(MT)\", \"LCG(m)\", \"TCG(m)\"]]\n",
    "table1 = pd.pivot_table(data1, values=[\"Weight(MT)\", \"LCG(m)\", \"TCG(m)\"], \n",
    "                       index= \"Discipline\", aggfunc={\"Weight(MT)\":np.sum,\n",
    "                                                    \"LCG(m)\":[min, max, np.mean], \n",
    "                                                     \"TCG(m)\":[min, max, np.mean]})\n",
    "data2 = pd.read_excel(\"종설 과제.xlsm\", sheet_name=\"Final\")\n",
    "data2 = data2[[\"Discipline\",\"Weight(MT)\", \"LCG(m)\", \"TCG(m)\"]]\n",
    "table2 = pd.pivot_table(data2, values=[\"Weight(MT)\", \"LCG(m)\", \"TCG(m)\"], \n",
    "                       index= \"Discipline\", aggfunc={\"Weight(MT)\":np.sum,\n",
    "                                                    \"LCG(m)\":[min, max, np.mean], \n",
    "                                                     \"TCG(m)\":[min, max, np.mean]})\n",
    "\n",
    "table1.head()\n",
    "#print(table2.head())"
   ]
  },
  {
   "cell_type": "code",
   "execution_count": 4,
   "metadata": {},
   "outputs": [
    {
     "name": "stdout",
     "output_type": "stream",
     "text": [
      "  Discipline   Weight(MT)   LCG(m)  TCG(m)\n",
      "0          S   1751.45558    4.869   0.001\n",
      "1          S   9572.29820   61.692   0.222\n",
      "2          S  30478.42773  218.869  -0.019\n",
      "3          S   2417.13087  367.724   0.003\n",
      "4          S    781.71525  245.502  -0.051\n",
      "  Discipline   Weight(MT)    LCG(m)    TCG(m)\n",
      "0          S   1722.64263    4.6815  0.000882\n",
      "1          S   9288.75080   61.0045  0.249972\n",
      "2          S  28444.28798  220.5565 -0.022610\n",
      "3          S   2522.53386  367.5865  0.002910\n",
      "4          S    936.42525  245.6145 -0.052428\n"
     ]
    }
   ],
   "source": [
    "print(data1.head())\n",
    "print(data2.head())"
   ]
  },
  {
   "cell_type": "code",
   "execution_count": 5,
   "metadata": {},
   "outputs": [
    {
     "data": {
      "text/plain": [
       "<matplotlib.legend.Legend at 0x1da88301a90>"
      ]
     },
     "execution_count": 5,
     "metadata": {},
     "output_type": "execute_result"
    },
    {
     "data": {
      "image/png": "[encoded data removed]",
      "text/plain": [
       "<Figure size 432x288 with 1 Axes>"
      ]
     },
     "metadata": {},
     "output_type": "display_data"
    }
   ],
   "source": [
    "# 2. LCG에 따른 Weight 분포\n",
    "sorted_data1 = data1.sort_values(by=[\"LCG(m)\"])\n",
    "sorted_data2 = data2.sort_values(by=[\"LCG(m)\"])\n",
    "\n",
    "x_value1 = [float(i) for i in sorted_data1.iloc[:, 2]] # LCG값\n",
    "y_value1 = [float(i) for i in sorted_data1.iloc[:, 1]] # Weight값\n",
    "x_value2 = [float(i) for i in sorted_data2.iloc[:, 2]] # LCG값\n",
    "y_value2 = [float(i) for i in sorted_data2.iloc[:, 1]] # Weight값\n",
    "\n",
    "plt.plot(x_value1, y_value1, label=\"1st\")\n",
    "plt.plot(x_value2, y_value2, label=\"Final\")\n",
    "plt.title(\"Weight Distribution(LCG)\")\n",
    "plt.xlabel(\"LCG(m)\")\n",
    "plt.ylabel(\"Weight(MT)\")\n",
    "plt.legend()"
   ]
  },
  {
   "cell_type": "code",
   "execution_count": 6,
   "metadata": {
    "scrolled": true
   },
   "outputs": [
    {
     "data": {
      "text/plain": [
       "Text(0,0.5,'Weight(MT)')"
      ]
     },
     "execution_count": 6,
     "metadata": {},
     "output_type": "execute_result"
    },
    {
     "data": {
      "image/png": "[encoded data removed]",
      "text/plain": [
       "<Figure size 432x288 with 1 Axes>"
      ]
     },
     "metadata": {},
     "output_type": "display_data"
    }
   ],
   "source": [
    "# 2.1 LCG에 따른 Weight diff 파악\n",
    "y_value3 = [first - second for first, second in zip(y_value2, y_value1)] # weight차이가 심한 곳.\n",
    "plt.plot(x_value1, y_value3)\n",
    "plt.title(\"weightF - weight1(LCG)\")\n",
    "plt.xlabel(\"LCG(m)\")\n",
    "plt.ylabel(\"Weight(MT)\")"
   ]
  },
  {
   "cell_type": "code",
   "execution_count": 7,
   "metadata": {},
   "outputs": [
    {
     "data": {
      "text/html": [
       "<div>\n",
       "<style scoped>\n",
       "    .dataframe tbody tr th:only-of-type {\n",
       "        vertical-align: middle;\n",
       "    }\n",
       "\n",
       "    .dataframe tbody tr th {\n",
       "        vertical-align: top;\n",
       "    }\n",
       "\n",
       "    .dataframe thead th {\n",
       "        text-align: right;\n",
       "    }\n",
       "</style>\n",
       "<table border=\"1\" class=\"dataframe\">\n",
       "  <thead>\n",
       "    <tr style=\"text-align: right;\">\n",
       "      <th></th>\n",
       "      <th>Weight(MT)</th>\n",
       "      <th>LCG(m)</th>\n",
       "      <th>TCG(m)</th>\n",
       "    </tr>\n",
       "  </thead>\n",
       "  <tbody>\n",
       "    <tr>\n",
       "      <th>count</th>\n",
       "      <td>290.000000</td>\n",
       "      <td>290.000000</td>\n",
       "      <td>290.000000</td>\n",
       "    </tr>\n",
       "    <tr>\n",
       "      <th>mean</th>\n",
       "      <td>199.459386</td>\n",
       "      <td>167.602184</td>\n",
       "      <td>0.988063</td>\n",
       "    </tr>\n",
       "    <tr>\n",
       "      <th>std</th>\n",
       "      <td>1775.226171</td>\n",
       "      <td>94.101100</td>\n",
       "      <td>8.358439</td>\n",
       "    </tr>\n",
       "    <tr>\n",
       "      <th>min</th>\n",
       "      <td>0.000000</td>\n",
       "      <td>-2.792500</td>\n",
       "      <td>-27.871000</td>\n",
       "    </tr>\n",
       "    <tr>\n",
       "      <th>25%</th>\n",
       "      <td>0.506138</td>\n",
       "      <td>78.337125</td>\n",
       "      <td>0.000000</td>\n",
       "    </tr>\n",
       "    <tr>\n",
       "      <th>50%</th>\n",
       "      <td>2.771000</td>\n",
       "      <td>170.100000</td>\n",
       "      <td>0.000000</td>\n",
       "    </tr>\n",
       "    <tr>\n",
       "      <th>75%</th>\n",
       "      <td>18.006215</td>\n",
       "      <td>244.493750</td>\n",
       "      <td>0.873722</td>\n",
       "    </tr>\n",
       "    <tr>\n",
       "      <th>max</th>\n",
       "      <td>28444.287980</td>\n",
       "      <td>391.547500</td>\n",
       "      <td>31.356400</td>\n",
       "    </tr>\n",
       "  </tbody>\n",
       "</table>\n",
       "</div>"
      ],
      "text/plain": [
       "         Weight(MT)      LCG(m)      TCG(m)\n",
       "count    290.000000  290.000000  290.000000\n",
       "mean     199.459386  167.602184    0.988063\n",
       "std     1775.226171   94.101100    8.358439\n",
       "min        0.000000   -2.792500  -27.871000\n",
       "25%        0.506138   78.337125    0.000000\n",
       "50%        2.771000  170.100000    0.000000\n",
       "75%       18.006215  244.493750    0.873722\n",
       "max    28444.287980  391.547500   31.356400"
      ]
     },
     "execution_count": 7,
     "metadata": {},
     "output_type": "execute_result"
    }
   ],
   "source": [
    "data1.describe()\n",
    "data2.describe()"
   ]
  },
  {
   "cell_type": "code",
   "execution_count": 12,
   "metadata": {},
   "outputs": [
    {
     "data": {
      "text/plain": [
       "Text(0,0.5,'Weight(MT)')"
      ]
     },
     "execution_count": 12,
     "metadata": {},
     "output_type": "execute_result"
    },
    {
     "data": {
      "image/png": "[encoded data removed]",
      "text/plain": [
       "<Figure size 432x288 with 1 Axes>"
      ]
     },
     "metadata": {},
     "output_type": "display_data"
    }
   ],
   "source": [
    "# 3. TCG에 따른 Weight 분포\n",
    "sorted_data_tcg1 = data1.sort_values(by=[\"TCG(m)\"])\n",
    "sorted_data_tcg2 = data2.sort_values(by=[\"TCG(m)\"])\n",
    "\n",
    "yt_value1 = [float(i) for i in sorted_data_tcg1.iloc[:, 1]] # TCG값\n",
    "xt_value1 = [float(i) for i in sorted_data_tcg1.iloc[:, 3]] # Weight값\n",
    "yt_value2 = [float(i) for i in sorted_data_tcg2.iloc[:, 1]] # TCG값\n",
    "xt_value2 = [float(i) for i in sorted_data_tcg2.iloc[:, 3]] # Weight값\n",
    "\n",
    "plt.plot(xt_value1, yt_value1)\n",
    "plt.plot(xt_value2, yt_value2)\n",
    "plt.title(\"Weight Distribution(TCG)\")\n",
    "plt.xlabel(\"TCG(m)\")\n",
    "plt.ylabel(\"Weight(MT)\")"
   ]
  },
  {
   "cell_type": "code",
   "execution_count": 14,
   "metadata": {
    "scrolled": false
   },
   "outputs": [
    {
     "data": {
      "text/plain": [
       "Text(0,0.5,'Weight(MT)')"
      ]
     },
     "execution_count": 14,
     "metadata": {},
     "output_type": "execute_result"
    },
    {
     "data": {
      "image/png": "[encoded data removed]",
      "text/plain": [
       "<Figure size 432x288 with 1 Axes>"
      ]
     },
     "metadata": {},
     "output_type": "display_data"
    }
   ],
   "source": [
    "# 3.1 TCG에 따른 Weight diff 파악\n",
    "yt_value3 = [first - second for first, second in zip(xt_value2, xt_value1)] # weight차이가 심한 곳.\n",
    "plt.plot(xt_value3, yt_value1)\n",
    "plt.title(\"weightF - weight1(TCG)\")\n",
    "plt.xlabel(\"TCG(m)\")\n",
    "plt.ylabel(\"Weight(MT)\")"
   ]
  },
  {
   "cell_type": "code",
   "execution_count": 10,
   "metadata": {},
   "outputs": [
    {
     "data": {
      "text/plain": [
       "Text(0,0.5,'Weight Diff(MT)')"
      ]
     },
     "execution_count": 10,
     "metadata": {},
     "output_type": "execute_result"
    },
    {
     "data": {
      "image/png": "[encoded data removed]",
      "text/plain": [
       "<Figure size 432x288 with 1 Axes>"
      ]
     },
     "metadata": {},
     "output_type": "display_data"
    }
   ],
   "source": [
    "# 3.2 Weight diff를 재설정.(LCG)\n",
    "sorted_data_w1 = data1.sort_values(by=[\"Weight(MT)\"])\n",
    "sorted_data_w2 = data2.sort_values(by=[\"Weight(MT)\"])\n",
    "sorted_data_w1[\"diff\"] = [w2 - w1 for w1, w2 in zip(sorted_data_w1[\"Weight(MT)\"], sorted_data_w2[\"Weight(MT)\"])]\n",
    "sorted_data = sorted_data_w1.sort_values(by=[\"LCG(m)\"])\n",
    "plt.plot(sorted_data[\"LCG(m)\"], sorted_data[\"diff\"])\n",
    "plt.title(\"Weight Diff Distribution(Final - 1st)\")\n",
    "plt.xlabel(\"LCG(m)\")\n",
    "plt.ylabel(\"Weight Diff(MT)\")"
   ]
  },
  {
   "cell_type": "code",
   "execution_count": 15,
   "metadata": {},
   "outputs": [
    {
     "data": {
      "text/plain": [
       "Text(0,0.5,'Weight Diff(MT)')"
      ]
     },
     "execution_count": 15,
     "metadata": {},
     "output_type": "execute_result"
    },
    {
     "data": {
      "image/png": "[encoded data removed]",
      "text/plain": [
       "<Figure size 432x288 with 1 Axes>"
      ]
     },
     "metadata": {},
     "output_type": "display_data"
    }
   ],
   "source": [
    "# 4.2 Weight diff를 재설정.(TCG)\n",
    "sorted_data_w1[\"diff\"] = [w2 - w1 for w1, w2 in zip(sorted_data_w1[\"Weight(MT)\"], sorted_data_w2[\"Weight(MT)\"])]\n",
    "sorted_data_t = sorted_data_w1.sort_values(by=[\"TCG(m)\"])\n",
    "plt.plot(sorted_data_t[\"TCG(m)\"], sorted_data_t[\"diff\"])\n",
    "plt.title(\"Weight Diff Distribution(Final - 1st)\")\n",
    "plt.xlabel(\"TCG(m)\")\n",
    "plt.ylabel(\"Weight Diff(MT)\")"
   ]
  },
  {
   "cell_type": "code",
   "execution_count": null,
   "metadata": {},
   "outputs": [],
   "source": []
  }
 ],
 "metadata": {
  "kernelspec": {
   "display_name": "Python 3",
   "language": "python",
   "name": "python3"
  },
  "language_info": {
   "codemirror_mode": {
    "name": "ipython",
    "version": 3
   },
   "file_extension": ".py",
   "mimetype": "text/x-python",
   "name": "python",
   "nbconvert_exporter": "python",
   "pygments_lexer": "ipython3",
   "version": "3.6.5"
  }
 },
 "nbformat": 4,
 "nbformat_minor": 2
}
